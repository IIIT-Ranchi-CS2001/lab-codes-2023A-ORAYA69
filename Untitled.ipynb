{
 "cells": [
  {
   "cell_type": "code",
   "execution_count": 13,
   "id": "0d613294-c7fa-404e-bbdf-56688ec8c093",
   "metadata": {},
   "outputs": [],
   "source": [
    "import numpy as np \n",
    "import pandas as pd"
   ]
  },
  {
   "cell_type": "code",
   "execution_count": 14,
   "id": "6a58f867-66f2-45b1-a13f-e2c6e2a4f38f",
   "metadata": {},
   "outputs": [],
   "source": [
    "#impoing data set"
   ]
  },
  {
   "cell_type": "code",
   "execution_count": 15,
   "id": "9b56c9b9-c8f9-40b2-835f-77cf1f734e59",
   "metadata": {},
   "outputs": [],
   "source": [
    "df = pd.read_csv('AQI_Data.csv')"
   ]
  },
  {
   "cell_type": "code",
   "execution_count": 16,
   "id": "59eeb878-d74f-4750-a181-cff3a0769b02",
   "metadata": {},
   "outputs": [
    {
     "data": {
      "text/html": [
       "<div>\n",
       "<style scoped>\n",
       "    .dataframe tbody tr th:only-of-type {\n",
       "        vertical-align: middle;\n",
       "    }\n",
       "\n",
       "    .dataframe tbody tr th {\n",
       "        vertical-align: top;\n",
       "    }\n",
       "\n",
       "    .dataframe thead th {\n",
       "        text-align: right;\n",
       "    }\n",
       "</style>\n",
       "<table border=\"1\" class=\"dataframe\">\n",
       "  <thead>\n",
       "    <tr style=\"text-align: right;\">\n",
       "      <th></th>\n",
       "      <th>City</th>\n",
       "      <th>Date</th>\n",
       "      <th>AQI</th>\n",
       "      <th>PM2.5</th>\n",
       "      <th>PM10</th>\n",
       "      <th>NO2</th>\n",
       "      <th>CO</th>\n",
       "      <th>O3</th>\n",
       "      <th>SO2</th>\n",
       "    </tr>\n",
       "  </thead>\n",
       "  <tbody>\n",
       "    <tr>\n",
       "      <th>0</th>\n",
       "      <td>Delhi</td>\n",
       "      <td>2024-01-01</td>\n",
       "      <td>152</td>\n",
       "      <td>153</td>\n",
       "      <td>151</td>\n",
       "      <td>26.509131</td>\n",
       "      <td>1.581413</td>\n",
       "      <td>123.401530</td>\n",
       "      <td>25.062474</td>\n",
       "    </tr>\n",
       "    <tr>\n",
       "      <th>1</th>\n",
       "      <td>Delhi</td>\n",
       "      <td>2024-01-02</td>\n",
       "      <td>264</td>\n",
       "      <td>288</td>\n",
       "      <td>268</td>\n",
       "      <td>87.955853</td>\n",
       "      <td>1.242119</td>\n",
       "      <td>144.533790</td>\n",
       "      <td>5.926302</td>\n",
       "    </tr>\n",
       "    <tr>\n",
       "      <th>2</th>\n",
       "      <td>Delhi</td>\n",
       "      <td>2024-01-03</td>\n",
       "      <td>307</td>\n",
       "      <td>344</td>\n",
       "      <td>357</td>\n",
       "      <td>94.469744</td>\n",
       "      <td>0.101480</td>\n",
       "      <td>198.520196</td>\n",
       "      <td>32.786668</td>\n",
       "    </tr>\n",
       "    <tr>\n",
       "      <th>3</th>\n",
       "      <td>Delhi</td>\n",
       "      <td>2024-01-04</td>\n",
       "      <td>363</td>\n",
       "      <td>334</td>\n",
       "      <td>347</td>\n",
       "      <td>12.075618</td>\n",
       "      <td>1.097072</td>\n",
       "      <td>85.973585</td>\n",
       "      <td>7.099955</td>\n",
       "    </tr>\n",
       "    <tr>\n",
       "      <th>4</th>\n",
       "      <td>Delhi</td>\n",
       "      <td>2024-01-05</td>\n",
       "      <td>237</td>\n",
       "      <td>266</td>\n",
       "      <td>250</td>\n",
       "      <td>51.046299</td>\n",
       "      <td>1.591834</td>\n",
       "      <td>47.938019</td>\n",
       "      <td>28.140550</td>\n",
       "    </tr>\n",
       "    <tr>\n",
       "      <th>...</th>\n",
       "      <td>...</td>\n",
       "      <td>...</td>\n",
       "      <td>...</td>\n",
       "      <td>...</td>\n",
       "      <td>...</td>\n",
       "      <td>...</td>\n",
       "      <td>...</td>\n",
       "      <td>...</td>\n",
       "      <td>...</td>\n",
       "    </tr>\n",
       "    <tr>\n",
       "      <th>2557</th>\n",
       "      <td>Pune</td>\n",
       "      <td>2024-12-27</td>\n",
       "      <td>419</td>\n",
       "      <td>448</td>\n",
       "      <td>462</td>\n",
       "      <td>26.701714</td>\n",
       "      <td>1.553582</td>\n",
       "      <td>86.973954</td>\n",
       "      <td>44.263423</td>\n",
       "    </tr>\n",
       "    <tr>\n",
       "      <th>2558</th>\n",
       "      <td>Pune</td>\n",
       "      <td>2024-12-28</td>\n",
       "      <td>252</td>\n",
       "      <td>202</td>\n",
       "      <td>182</td>\n",
       "      <td>19.920962</td>\n",
       "      <td>1.599821</td>\n",
       "      <td>41.939484</td>\n",
       "      <td>20.545087</td>\n",
       "    </tr>\n",
       "    <tr>\n",
       "      <th>2559</th>\n",
       "      <td>Pune</td>\n",
       "      <td>2024-12-29</td>\n",
       "      <td>365</td>\n",
       "      <td>414</td>\n",
       "      <td>410</td>\n",
       "      <td>80.815702</td>\n",
       "      <td>1.919950</td>\n",
       "      <td>39.982167</td>\n",
       "      <td>22.646297</td>\n",
       "    </tr>\n",
       "    <tr>\n",
       "      <th>2560</th>\n",
       "      <td>Pune</td>\n",
       "      <td>2024-12-30</td>\n",
       "      <td>253</td>\n",
       "      <td>269</td>\n",
       "      <td>285</td>\n",
       "      <td>66.231614</td>\n",
       "      <td>0.611800</td>\n",
       "      <td>63.966705</td>\n",
       "      <td>10.580135</td>\n",
       "    </tr>\n",
       "    <tr>\n",
       "      <th>2561</th>\n",
       "      <td>Pune</td>\n",
       "      <td>2024-12-31</td>\n",
       "      <td>95</td>\n",
       "      <td>140</td>\n",
       "      <td>117</td>\n",
       "      <td>99.505459</td>\n",
       "      <td>0.122817</td>\n",
       "      <td>112.774765</td>\n",
       "      <td>30.814997</td>\n",
       "    </tr>\n",
       "  </tbody>\n",
       "</table>\n",
       "<p>2562 rows × 9 columns</p>\n",
       "</div>"
      ],
      "text/plain": [
       "       City        Date  AQI  PM2.5  PM10        NO2        CO          O3  \\\n",
       "0     Delhi  2024-01-01  152    153   151  26.509131  1.581413  123.401530   \n",
       "1     Delhi  2024-01-02  264    288   268  87.955853  1.242119  144.533790   \n",
       "2     Delhi  2024-01-03  307    344   357  94.469744  0.101480  198.520196   \n",
       "3     Delhi  2024-01-04  363    334   347  12.075618  1.097072   85.973585   \n",
       "4     Delhi  2024-01-05  237    266   250  51.046299  1.591834   47.938019   \n",
       "...     ...         ...  ...    ...   ...        ...       ...         ...   \n",
       "2557   Pune  2024-12-27  419    448   462  26.701714  1.553582   86.973954   \n",
       "2558   Pune  2024-12-28  252    202   182  19.920962  1.599821   41.939484   \n",
       "2559   Pune  2024-12-29  365    414   410  80.815702  1.919950   39.982167   \n",
       "2560   Pune  2024-12-30  253    269   285  66.231614  0.611800   63.966705   \n",
       "2561   Pune  2024-12-31   95    140   117  99.505459  0.122817  112.774765   \n",
       "\n",
       "            SO2  \n",
       "0     25.062474  \n",
       "1      5.926302  \n",
       "2     32.786668  \n",
       "3      7.099955  \n",
       "4     28.140550  \n",
       "...         ...  \n",
       "2557  44.263423  \n",
       "2558  20.545087  \n",
       "2559  22.646297  \n",
       "2560  10.580135  \n",
       "2561  30.814997  \n",
       "\n",
       "[2562 rows x 9 columns]"
      ]
     },
     "execution_count": 16,
     "metadata": {},
     "output_type": "execute_result"
    }
   ],
   "source": [
    "df"
   ]
  },
  {
   "cell_type": "code",
   "execution_count": 17,
   "id": "9667dabd-6e8f-4346-a8b1-668b26a65160",
   "metadata": {},
   "outputs": [],
   "source": [
    "# the first five rown"
   ]
  },
  {
   "cell_type": "code",
   "execution_count": 18,
   "id": "76caf404-d7ab-4c67-be7c-e6e5984f7270",
   "metadata": {},
   "outputs": [
    {
     "data": {
      "text/html": [
       "<div>\n",
       "<style scoped>\n",
       "    .dataframe tbody tr th:only-of-type {\n",
       "        vertical-align: middle;\n",
       "    }\n",
       "\n",
       "    .dataframe tbody tr th {\n",
       "        vertical-align: top;\n",
       "    }\n",
       "\n",
       "    .dataframe thead th {\n",
       "        text-align: right;\n",
       "    }\n",
       "</style>\n",
       "<table border=\"1\" class=\"dataframe\">\n",
       "  <thead>\n",
       "    <tr style=\"text-align: right;\">\n",
       "      <th></th>\n",
       "      <th>City</th>\n",
       "      <th>Date</th>\n",
       "      <th>AQI</th>\n",
       "      <th>PM2.5</th>\n",
       "      <th>PM10</th>\n",
       "      <th>NO2</th>\n",
       "      <th>CO</th>\n",
       "      <th>O3</th>\n",
       "      <th>SO2</th>\n",
       "    </tr>\n",
       "  </thead>\n",
       "  <tbody>\n",
       "    <tr>\n",
       "      <th>0</th>\n",
       "      <td>Delhi</td>\n",
       "      <td>2024-01-01</td>\n",
       "      <td>152</td>\n",
       "      <td>153</td>\n",
       "      <td>151</td>\n",
       "      <td>26.509131</td>\n",
       "      <td>1.581413</td>\n",
       "      <td>123.401530</td>\n",
       "      <td>25.062474</td>\n",
       "    </tr>\n",
       "    <tr>\n",
       "      <th>1</th>\n",
       "      <td>Delhi</td>\n",
       "      <td>2024-01-02</td>\n",
       "      <td>264</td>\n",
       "      <td>288</td>\n",
       "      <td>268</td>\n",
       "      <td>87.955853</td>\n",
       "      <td>1.242119</td>\n",
       "      <td>144.533790</td>\n",
       "      <td>5.926302</td>\n",
       "    </tr>\n",
       "    <tr>\n",
       "      <th>2</th>\n",
       "      <td>Delhi</td>\n",
       "      <td>2024-01-03</td>\n",
       "      <td>307</td>\n",
       "      <td>344</td>\n",
       "      <td>357</td>\n",
       "      <td>94.469744</td>\n",
       "      <td>0.101480</td>\n",
       "      <td>198.520196</td>\n",
       "      <td>32.786668</td>\n",
       "    </tr>\n",
       "    <tr>\n",
       "      <th>3</th>\n",
       "      <td>Delhi</td>\n",
       "      <td>2024-01-04</td>\n",
       "      <td>363</td>\n",
       "      <td>334</td>\n",
       "      <td>347</td>\n",
       "      <td>12.075618</td>\n",
       "      <td>1.097072</td>\n",
       "      <td>85.973585</td>\n",
       "      <td>7.099955</td>\n",
       "    </tr>\n",
       "    <tr>\n",
       "      <th>4</th>\n",
       "      <td>Delhi</td>\n",
       "      <td>2024-01-05</td>\n",
       "      <td>237</td>\n",
       "      <td>266</td>\n",
       "      <td>250</td>\n",
       "      <td>51.046299</td>\n",
       "      <td>1.591834</td>\n",
       "      <td>47.938019</td>\n",
       "      <td>28.140550</td>\n",
       "    </tr>\n",
       "  </tbody>\n",
       "</table>\n",
       "</div>"
      ],
      "text/plain": [
       "    City        Date  AQI  PM2.5  PM10        NO2        CO          O3  \\\n",
       "0  Delhi  2024-01-01  152    153   151  26.509131  1.581413  123.401530   \n",
       "1  Delhi  2024-01-02  264    288   268  87.955853  1.242119  144.533790   \n",
       "2  Delhi  2024-01-03  307    344   357  94.469744  0.101480  198.520196   \n",
       "3  Delhi  2024-01-04  363    334   347  12.075618  1.097072   85.973585   \n",
       "4  Delhi  2024-01-05  237    266   250  51.046299  1.591834   47.938019   \n",
       "\n",
       "         SO2  \n",
       "0  25.062474  \n",
       "1   5.926302  \n",
       "2  32.786668  \n",
       "3   7.099955  \n",
       "4  28.140550  "
      ]
     },
     "execution_count": 18,
     "metadata": {},
     "output_type": "execute_result"
    }
   ],
   "source": [
    "df.head(5)"
   ]
  },
  {
   "cell_type": "code",
   "execution_count": 19,
   "id": "784daf03-69b4-4408-88e7-dcfc2964a8d5",
   "metadata": {},
   "outputs": [],
   "source": [
    "#the last five rows"
   ]
  },
  {
   "cell_type": "code",
   "execution_count": 20,
   "id": "5c3f4f6e-906a-4f29-9295-9bfb36fd981c",
   "metadata": {},
   "outputs": [
    {
     "data": {
      "text/html": [
       "<div>\n",
       "<style scoped>\n",
       "    .dataframe tbody tr th:only-of-type {\n",
       "        vertical-align: middle;\n",
       "    }\n",
       "\n",
       "    .dataframe tbody tr th {\n",
       "        vertical-align: top;\n",
       "    }\n",
       "\n",
       "    .dataframe thead th {\n",
       "        text-align: right;\n",
       "    }\n",
       "</style>\n",
       "<table border=\"1\" class=\"dataframe\">\n",
       "  <thead>\n",
       "    <tr style=\"text-align: right;\">\n",
       "      <th></th>\n",
       "      <th>City</th>\n",
       "      <th>Date</th>\n",
       "      <th>AQI</th>\n",
       "      <th>PM2.5</th>\n",
       "      <th>PM10</th>\n",
       "      <th>NO2</th>\n",
       "      <th>CO</th>\n",
       "      <th>O3</th>\n",
       "      <th>SO2</th>\n",
       "    </tr>\n",
       "  </thead>\n",
       "  <tbody>\n",
       "    <tr>\n",
       "      <th>2557</th>\n",
       "      <td>Pune</td>\n",
       "      <td>2024-12-27</td>\n",
       "      <td>419</td>\n",
       "      <td>448</td>\n",
       "      <td>462</td>\n",
       "      <td>26.701714</td>\n",
       "      <td>1.553582</td>\n",
       "      <td>86.973954</td>\n",
       "      <td>44.263423</td>\n",
       "    </tr>\n",
       "    <tr>\n",
       "      <th>2558</th>\n",
       "      <td>Pune</td>\n",
       "      <td>2024-12-28</td>\n",
       "      <td>252</td>\n",
       "      <td>202</td>\n",
       "      <td>182</td>\n",
       "      <td>19.920962</td>\n",
       "      <td>1.599821</td>\n",
       "      <td>41.939484</td>\n",
       "      <td>20.545087</td>\n",
       "    </tr>\n",
       "    <tr>\n",
       "      <th>2559</th>\n",
       "      <td>Pune</td>\n",
       "      <td>2024-12-29</td>\n",
       "      <td>365</td>\n",
       "      <td>414</td>\n",
       "      <td>410</td>\n",
       "      <td>80.815702</td>\n",
       "      <td>1.919950</td>\n",
       "      <td>39.982167</td>\n",
       "      <td>22.646297</td>\n",
       "    </tr>\n",
       "    <tr>\n",
       "      <th>2560</th>\n",
       "      <td>Pune</td>\n",
       "      <td>2024-12-30</td>\n",
       "      <td>253</td>\n",
       "      <td>269</td>\n",
       "      <td>285</td>\n",
       "      <td>66.231614</td>\n",
       "      <td>0.611800</td>\n",
       "      <td>63.966705</td>\n",
       "      <td>10.580135</td>\n",
       "    </tr>\n",
       "    <tr>\n",
       "      <th>2561</th>\n",
       "      <td>Pune</td>\n",
       "      <td>2024-12-31</td>\n",
       "      <td>95</td>\n",
       "      <td>140</td>\n",
       "      <td>117</td>\n",
       "      <td>99.505459</td>\n",
       "      <td>0.122817</td>\n",
       "      <td>112.774765</td>\n",
       "      <td>30.814997</td>\n",
       "    </tr>\n",
       "  </tbody>\n",
       "</table>\n",
       "</div>"
      ],
      "text/plain": [
       "      City        Date  AQI  PM2.5  PM10        NO2        CO          O3  \\\n",
       "2557  Pune  2024-12-27  419    448   462  26.701714  1.553582   86.973954   \n",
       "2558  Pune  2024-12-28  252    202   182  19.920962  1.599821   41.939484   \n",
       "2559  Pune  2024-12-29  365    414   410  80.815702  1.919950   39.982167   \n",
       "2560  Pune  2024-12-30  253    269   285  66.231614  0.611800   63.966705   \n",
       "2561  Pune  2024-12-31   95    140   117  99.505459  0.122817  112.774765   \n",
       "\n",
       "            SO2  \n",
       "2557  44.263423  \n",
       "2558  20.545087  \n",
       "2559  22.646297  \n",
       "2560  10.580135  \n",
       "2561  30.814997  "
      ]
     },
     "execution_count": 20,
     "metadata": {},
     "output_type": "execute_result"
    }
   ],
   "source": [
    "df.tail(5)"
   ]
  },
  {
   "cell_type": "code",
   "execution_count": 21,
   "id": "70ce638f-b61d-4260-8d4f-4a1ad5ec6de0",
   "metadata": {},
   "outputs": [],
   "source": [
    "#stats for each numeric column"
   ]
  },
  {
   "cell_type": "code",
   "execution_count": 22,
   "id": "f3a05798-fed7-4951-b4ab-8ed5a747011f",
   "metadata": {},
   "outputs": [
    {
     "data": {
      "text/html": [
       "<div>\n",
       "<style scoped>\n",
       "    .dataframe tbody tr th:only-of-type {\n",
       "        vertical-align: middle;\n",
       "    }\n",
       "\n",
       "    .dataframe tbody tr th {\n",
       "        vertical-align: top;\n",
       "    }\n",
       "\n",
       "    .dataframe thead th {\n",
       "        text-align: right;\n",
       "    }\n",
       "</style>\n",
       "<table border=\"1\" class=\"dataframe\">\n",
       "  <thead>\n",
       "    <tr style=\"text-align: right;\">\n",
       "      <th></th>\n",
       "      <th>AQI</th>\n",
       "      <th>PM2.5</th>\n",
       "      <th>PM10</th>\n",
       "      <th>NO2</th>\n",
       "      <th>CO</th>\n",
       "      <th>O3</th>\n",
       "      <th>SO2</th>\n",
       "    </tr>\n",
       "  </thead>\n",
       "  <tbody>\n",
       "    <tr>\n",
       "      <th>count</th>\n",
       "      <td>2562.000000</td>\n",
       "      <td>2562.000000</td>\n",
       "      <td>2562.000000</td>\n",
       "      <td>2562.000000</td>\n",
       "      <td>2562.000000</td>\n",
       "      <td>2562.000000</td>\n",
       "      <td>2562.000000</td>\n",
       "    </tr>\n",
       "    <tr>\n",
       "      <th>mean</th>\n",
       "      <td>277.635051</td>\n",
       "      <td>276.738486</td>\n",
       "      <td>275.988290</td>\n",
       "      <td>54.151115</td>\n",
       "      <td>1.037476</td>\n",
       "      <td>104.832673</td>\n",
       "      <td>27.746349</td>\n",
       "    </tr>\n",
       "    <tr>\n",
       "      <th>std</th>\n",
       "      <td>128.603738</td>\n",
       "      <td>131.015126</td>\n",
       "      <td>131.900856</td>\n",
       "      <td>25.744072</td>\n",
       "      <td>0.560294</td>\n",
       "      <td>54.878784</td>\n",
       "      <td>12.927527</td>\n",
       "    </tr>\n",
       "    <tr>\n",
       "      <th>min</th>\n",
       "      <td>50.000000</td>\n",
       "      <td>2.000000</td>\n",
       "      <td>-26.000000</td>\n",
       "      <td>10.036926</td>\n",
       "      <td>0.100100</td>\n",
       "      <td>10.045129</td>\n",
       "      <td>5.000524</td>\n",
       "    </tr>\n",
       "    <tr>\n",
       "      <th>25%</th>\n",
       "      <td>166.250000</td>\n",
       "      <td>165.000000</td>\n",
       "      <td>166.000000</td>\n",
       "      <td>32.025372</td>\n",
       "      <td>0.545341</td>\n",
       "      <td>58.169877</td>\n",
       "      <td>16.685076</td>\n",
       "    </tr>\n",
       "    <tr>\n",
       "      <th>50%</th>\n",
       "      <td>276.000000</td>\n",
       "      <td>274.500000</td>\n",
       "      <td>274.000000</td>\n",
       "      <td>53.606459</td>\n",
       "      <td>1.010095</td>\n",
       "      <td>104.345545</td>\n",
       "      <td>27.872017</td>\n",
       "    </tr>\n",
       "    <tr>\n",
       "      <th>75%</th>\n",
       "      <td>388.750000</td>\n",
       "      <td>388.000000</td>\n",
       "      <td>386.000000</td>\n",
       "      <td>76.322683</td>\n",
       "      <td>1.533300</td>\n",
       "      <td>152.515574</td>\n",
       "      <td>38.878445</td>\n",
       "    </tr>\n",
       "    <tr>\n",
       "      <th>max</th>\n",
       "      <td>499.000000</td>\n",
       "      <td>543.000000</td>\n",
       "      <td>559.000000</td>\n",
       "      <td>99.974242</td>\n",
       "      <td>1.999528</td>\n",
       "      <td>199.979607</td>\n",
       "      <td>49.976055</td>\n",
       "    </tr>\n",
       "  </tbody>\n",
       "</table>\n",
       "</div>"
      ],
      "text/plain": [
       "               AQI        PM2.5         PM10          NO2           CO  \\\n",
       "count  2562.000000  2562.000000  2562.000000  2562.000000  2562.000000   \n",
       "mean    277.635051   276.738486   275.988290    54.151115     1.037476   \n",
       "std     128.603738   131.015126   131.900856    25.744072     0.560294   \n",
       "min      50.000000     2.000000   -26.000000    10.036926     0.100100   \n",
       "25%     166.250000   165.000000   166.000000    32.025372     0.545341   \n",
       "50%     276.000000   274.500000   274.000000    53.606459     1.010095   \n",
       "75%     388.750000   388.000000   386.000000    76.322683     1.533300   \n",
       "max     499.000000   543.000000   559.000000    99.974242     1.999528   \n",
       "\n",
       "                O3          SO2  \n",
       "count  2562.000000  2562.000000  \n",
       "mean    104.832673    27.746349  \n",
       "std      54.878784    12.927527  \n",
       "min      10.045129     5.000524  \n",
       "25%      58.169877    16.685076  \n",
       "50%     104.345545    27.872017  \n",
       "75%     152.515574    38.878445  \n",
       "max     199.979607    49.976055  "
      ]
     },
     "execution_count": 22,
     "metadata": {},
     "output_type": "execute_result"
    }
   ],
   "source": [
    "df.describe()"
   ]
  },
  {
   "cell_type": "code",
   "execution_count": 25,
   "id": "c223801c-34e5-4d74-9be4-09db09202694",
   "metadata": {},
   "outputs": [
    {
     "name": "stdout",
     "output_type": "stream",
     "text": [
      "City: Bangalore\n",
      "  Mean AQI: 279.54371584699453\n",
      "  Mean PM2.5: 278.46994535519127\n",
      "  Mean PM10: 277.75956284153006\n",
      "City: Chennai\n",
      "  Mean AQI: 274.3142076502732\n",
      "  Mean PM2.5: 275.1393442622951\n",
      "  Mean PM10: 273.26502732240436\n",
      "City: Delhi\n",
      "  Mean AQI: 279.1530054644809\n",
      "  Mean PM2.5: 279.89890710382514\n",
      "  Mean PM10: 279.3497267759563\n",
      "City: Hyderabad\n",
      "  Mean AQI: 280.3551912568306\n",
      "  Mean PM2.5: 277.8251366120219\n",
      "  Mean PM10: 276.45628415300547\n",
      "City: Kolkata\n",
      "  Mean AQI: 265.9016393442623\n",
      "  Mean PM2.5: 264.6639344262295\n",
      "  Mean PM10: 263.6448087431694\n",
      "City: Mumbai\n",
      "  Mean AQI: 287.7978142076503\n",
      "  Mean PM2.5: 286.0464480874317\n",
      "  Mean PM10: 286.6693989071038\n",
      "City: Pune\n",
      "  Mean AQI: 276.379781420765\n",
      "  Mean PM2.5: 275.1256830601093\n",
      "  Mean PM10: 274.77322404371586\n"
     ]
    }
   ],
   "source": [
    "data = df[['City', 'AQI', 'PM2.5', 'PM10']].dropna().to_numpy()\n",
    "\n",
    "\n",
    "cities = np.unique(data[:, 0])\n",
    "\n",
    "\n",
    "result = {}\n",
    "for city in cities:\n",
    "    city_data = data[data[:, 0] == city][:, 1:].astype(float) \n",
    "    result[city] = {\n",
    "        'Me AQI': np.mean(city_data[:, 0]),\n",
    "        'Me PM2.5': np.mean(city_data[:, 1]),\n",
    "        'Me PM10': np.mean(city_data[:, 2])\n",
    "    }\n",
    "\n",
    "\n",
    "for city, stats in result.items():\n",
    "    print(f\"City: {city}\")\n",
    "    print(f\"  Mean AQI: {stats['Me AQI']}\")\n",
    "    print(f\"  Mean PM2.5: {stats['Me PM2.5']}\")\n",
    "    print(f\"  Mean PM10: {stats['Me PM10']}\")"
   ]
  },
  {
   "cell_type": "code",
   "execution_count": 25,
   "id": "ecb2a2bc-efda-439a-ae35-eaa3fd96dc05",
   "metadata": {},
   "outputs": [
    {
     "data": {
      "text/plain": [
       "array([['Delhi', '2024-01-01', 152, ..., 1.5814129005182616,\n",
       "        123.40153000983253, 25.0624738784116],\n",
       "       ['Delhi', '2024-01-02', 264, ..., 1.2421185223120967,\n",
       "        144.53378978124863, 5.92630224331111],\n",
       "       ['Delhi', '2024-01-03', 307, ..., 0.1014796550979272,\n",
       "        198.5201962653313, 32.786667933247244],\n",
       "       ...,\n",
       "       ['Pune', '2024-12-29', 365, ..., 1.9199502637673944,\n",
       "        39.982166634876506, 22.646296630226743],\n",
       "       ['Pune', '2024-12-30', 253, ..., 0.6118002358851184,\n",
       "        63.96670522364774, 10.580134758086414],\n",
       "       ['Pune', '2024-12-31', 95, ..., 0.1228174098601018,\n",
       "        112.77476452458674, 30.81499688970544]], dtype=object)"
      ]
     },
     "execution_count": 25,
     "metadata": {},
     "output_type": "execute_result"
    }
   ],
   "source": [
    "np"
   ]
  },
  {
   "cell_type": "code",
   "execution_count": null,
   "id": "1797d7ae-700f-48d6-a24f-b48cae5b41db",
   "metadata": {},
   "outputs": [],
   "source": [
    "np."
   ]
  },
  {
   "cell_type": "code",
   "execution_count": 11,
   "id": "3c0b81ec-8447-4d8f-ae21-5df0622fd2e0",
   "metadata": {},
   "outputs": [
    {
     "data": {
      "text/plain": [
       "277.6350507416081"
      ]
     },
     "execution_count": 11,
     "metadata": {},
     "output_type": "execute_result"
    }
   ],
   "source": [
    "df['AQI'].mean()"
   ]
  },
  {
   "cell_type": "code",
   "execution_count": 12,
   "id": "7023302e-4577-4683-84d3-b009c79bbbca",
   "metadata": {},
   "outputs": [
    {
     "data": {
      "text/plain": [
       "276.73848555815766"
      ]
     },
     "execution_count": 12,
     "metadata": {},
     "output_type": "execute_result"
    }
   ],
   "source": [
    "df['PM2.5'].mean()"
   ]
  },
  {
   "cell_type": "code",
   "execution_count": 13,
   "id": "2ba28e60-6838-40b5-bb45-ab35b611d646",
   "metadata": {},
   "outputs": [
    {
     "data": {
      "text/plain": [
       "275.9882903981265"
      ]
     },
     "execution_count": 13,
     "metadata": {},
     "output_type": "execute_result"
    }
   ],
   "source": [
    "df['PM10'].mean()"
   ]
  },
  {
   "cell_type": "code",
   "execution_count": 14,
   "id": "b9e355c6-326c-419e-b656-6e4968a2a6a0",
   "metadata": {},
   "outputs": [
    {
     "data": {
      "text/plain": [
       "<bound method Series.unique of 0       152\n",
       "1       264\n",
       "2       307\n",
       "3       363\n",
       "4       237\n",
       "       ... \n",
       "2557    419\n",
       "2558    252\n",
       "2559    365\n",
       "2560    253\n",
       "2561     95\n",
       "Name: AQI, Length: 2562, dtype: int64>"
      ]
     },
     "execution_count": 14,
     "metadata": {},
     "output_type": "execute_result"
    }
   ],
   "source": [
    "df['AQI'].unique"
   ]
  },
  {
   "cell_type": "code",
   "execution_count": 15,
   "id": "870ebd9a-8915-4fdb-8c9d-aeb78900cd00",
   "metadata": {},
   "outputs": [],
   "source": [
    "n = df.iloc[:,[0,2]]"
   ]
  },
  {
   "cell_type": "code",
   "execution_count": 16,
   "id": "34593798-163d-4655-acf3-52d4721b40c2",
   "metadata": {},
   "outputs": [
    {
     "data": {
      "text/html": [
       "<div>\n",
       "<style scoped>\n",
       "    .dataframe tbody tr th:only-of-type {\n",
       "        vertical-align: middle;\n",
       "    }\n",
       "\n",
       "    .dataframe tbody tr th {\n",
       "        vertical-align: top;\n",
       "    }\n",
       "\n",
       "    .dataframe thead th {\n",
       "        text-align: right;\n",
       "    }\n",
       "</style>\n",
       "<table border=\"1\" class=\"dataframe\">\n",
       "  <thead>\n",
       "    <tr style=\"text-align: right;\">\n",
       "      <th></th>\n",
       "      <th>City</th>\n",
       "      <th>AQI</th>\n",
       "    </tr>\n",
       "  </thead>\n",
       "  <tbody>\n",
       "    <tr>\n",
       "      <th>0</th>\n",
       "      <td>Delhi</td>\n",
       "      <td>152</td>\n",
       "    </tr>\n",
       "    <tr>\n",
       "      <th>1</th>\n",
       "      <td>Delhi</td>\n",
       "      <td>264</td>\n",
       "    </tr>\n",
       "    <tr>\n",
       "      <th>2</th>\n",
       "      <td>Delhi</td>\n",
       "      <td>307</td>\n",
       "    </tr>\n",
       "    <tr>\n",
       "      <th>3</th>\n",
       "      <td>Delhi</td>\n",
       "      <td>363</td>\n",
       "    </tr>\n",
       "    <tr>\n",
       "      <th>4</th>\n",
       "      <td>Delhi</td>\n",
       "      <td>237</td>\n",
       "    </tr>\n",
       "    <tr>\n",
       "      <th>...</th>\n",
       "      <td>...</td>\n",
       "      <td>...</td>\n",
       "    </tr>\n",
       "    <tr>\n",
       "      <th>2557</th>\n",
       "      <td>Pune</td>\n",
       "      <td>419</td>\n",
       "    </tr>\n",
       "    <tr>\n",
       "      <th>2558</th>\n",
       "      <td>Pune</td>\n",
       "      <td>252</td>\n",
       "    </tr>\n",
       "    <tr>\n",
       "      <th>2559</th>\n",
       "      <td>Pune</td>\n",
       "      <td>365</td>\n",
       "    </tr>\n",
       "    <tr>\n",
       "      <th>2560</th>\n",
       "      <td>Pune</td>\n",
       "      <td>253</td>\n",
       "    </tr>\n",
       "    <tr>\n",
       "      <th>2561</th>\n",
       "      <td>Pune</td>\n",
       "      <td>95</td>\n",
       "    </tr>\n",
       "  </tbody>\n",
       "</table>\n",
       "<p>2562 rows × 2 columns</p>\n",
       "</div>"
      ],
      "text/plain": [
       "       City  AQI\n",
       "0     Delhi  152\n",
       "1     Delhi  264\n",
       "2     Delhi  307\n",
       "3     Delhi  363\n",
       "4     Delhi  237\n",
       "...     ...  ...\n",
       "2557   Pune  419\n",
       "2558   Pune  252\n",
       "2559   Pune  365\n",
       "2560   Pune  253\n",
       "2561   Pune   95\n",
       "\n",
       "[2562 rows x 2 columns]"
      ]
     },
     "execution_count": 16,
     "metadata": {},
     "output_type": "execute_result"
    }
   ],
   "source": [
    "n"
   ]
  },
  {
   "cell_type": "code",
   "execution_count": 28,
   "id": "0ba727a2-8a4c-4645-87ed-4a777dee15b5",
   "metadata": {},
   "outputs": [
    {
     "ename": "SyntaxError",
     "evalue": "invalid syntax (3911195280.py, line 1)",
     "output_type": "error",
     "traceback": [
      "\u001b[1;36m  Cell \u001b[1;32mIn[28], line 1\u001b[1;36m\u001b[0m\n\u001b[1;33m    k=pd.(n.groupby('City')['AQI'].mean())\u001b[0m\n\u001b[1;37m         ^\u001b[0m\n\u001b[1;31mSyntaxError\u001b[0m\u001b[1;31m:\u001b[0m invalid syntax\n"
     ]
    }
   ],
   "source": [
    "k=pd.(n.groupby('City')['AQI'].mean())"
   ]
  },
  {
   "cell_type": "code",
   "execution_count": 29,
   "id": "c7ef30c8-5599-47bb-8bde-cc5753a56d7d",
   "metadata": {},
   "outputs": [],
   "source": [
    "di=dict(n.groupby('City')['AQI'].mean().sort_values(ascending=False))\n"
   ]
  },
  {
   "cell_type": "code",
   "execution_count": 34,
   "id": "43d12b01-cb10-4006-bbde-d75b30d3b734",
   "metadata": {},
   "outputs": [
    {
     "name": "stdout",
     "output_type": "stream",
     "text": [
      "highest average AQI values is  Mumbai  with values  287.7978142076503\n",
      " lowest average AQI values is  Kolkata  with values  265.9016393442623\n"
     ]
    }
   ],
   "source": [
    "li=list(di.keys())\n",
    "print(\"highest average AQI values is \",li[0],\" with values \",di[li[0]])\n",
    "print(\" lowest average AQI values is \",li[-1],\" with values \",di[li[-1]])"
   ]
  },
  {
   "cell_type": "code",
   "execution_count": 26,
   "id": "48705bdf-09f5-4306-98f4-64c9e3f9549a",
   "metadata": {},
   "outputs": [
    {
     "data": {
      "text/plain": [
       "City\n",
       "Bangalore    279.543716\n",
       "Chennai      274.314208\n",
       "Delhi        279.153005\n",
       "Hyderabad    280.355191\n",
       "Kolkata      265.901639\n",
       "Mumbai       287.797814\n",
       "Pune         276.379781\n",
       "Name: AQI, dtype: float64"
      ]
     },
     "execution_count": 26,
     "metadata": {},
     "output_type": "execute_result"
    }
   ],
   "source": [
    "k"
   ]
  },
  {
   "cell_type": "code",
   "execution_count": 21,
   "id": "92e9b096-d358-4b20-b158-07491c513465",
   "metadata": {},
   "outputs": [
    {
     "data": {
      "text/plain": [
       "287.7978142076503"
      ]
     },
     "execution_count": 21,
     "metadata": {},
     "output_type": "execute_result"
    }
   ],
   "source": [
    "k.max()"
   ]
  },
  {
   "cell_type": "code",
   "execution_count": 22,
   "id": "eded7c71-11c4-49d6-ab2d-61f8d54fcd2a",
   "metadata": {},
   "outputs": [
    {
     "data": {
      "text/plain": [
       "265.9016393442623"
      ]
     },
     "execution_count": 22,
     "metadata": {},
     "output_type": "execute_result"
    }
   ],
   "source": [
    "k.min()"
   ]
  },
  {
   "cell_type": "code",
   "execution_count": null,
   "id": "bd285579-4027-4618-bb65-f8564f03187e",
   "metadata": {},
   "outputs": [],
   "source": []
  }
 ],
 "metadata": {
  "kernelspec": {
   "display_name": "Python 3 (ipykernel)",
   "language": "python",
   "name": "python3"
  },
  "language_info": {
   "codemirror_mode": {
    "name": "ipython",
    "version": 3
   },
   "file_extension": ".py",
   "mimetype": "text/x-python",
   "name": "python",
   "nbconvert_exporter": "python",
   "pygments_lexer": "ipython3",
   "version": "3.12.1"
  }
 },
 "nbformat": 4,
 "nbformat_minor": 5
}
